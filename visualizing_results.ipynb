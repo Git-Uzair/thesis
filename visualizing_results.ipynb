{
 "cells": [
  {
   "cell_type": "code",
   "execution_count": null,
   "metadata": {},
   "outputs": [],
   "source": [
    "import pandas as pd\n",
    "import numpy as np\n",
    "from sklearn.model_selection import train_test_split\n",
    "from sklearn.preprocessing import LabelEncoder\n",
    "import matplotlib.pyplot as plt"
   ]
  },
  {
   "cell_type": "code",
   "execution_count": null,
   "metadata": {},
   "outputs": [],
   "source": [
    "# Read the final results csv here\n",
    "vae_classifier_results = pd.read_csv('./results/lfm2b_final_results_[\\'country\\', \\'sex\\']_0.5_0.5_0.5.csv')"
   ]
  },
  {
   "cell_type": "code",
   "execution_count": null,
   "metadata": {},
   "outputs": [],
   "source": [
    "def space_separated_str_to_list(space_separated_str):\n",
    "    return [int(x) for x in space_separated_str.split()]\n",
    "\n",
    "\n",
    "# Apply the function to each column\n",
    "vae_classifier_results[\"missing_terms\"] = vae_classifier_results[\"missing_terms\"].apply(\n",
    "    space_separated_str_to_list\n",
    ")\n",
    "vae_classifier_results[\"recommended_terms\"] = vae_classifier_results[\n",
    "    \"recommended_terms\"\n",
    "].apply(space_separated_str_to_list)\n",
    "\n",
    "\n",
    "# Custom function to calculate precision at different levels\n",
    "def precision_at_k(recommended, missing, k):\n",
    "    recommended_k = recommended[:k]\n",
    "    found_terms = set(recommended_k) & set(missing)\n",
    "    precision = len(found_terms) / k if k > 0 else 0\n",
    "    return precision\n",
    "\n",
    "\n",
    "def calculate_UFAIR_(df, attribute_columns, k_value):\n",
    "    # Group by the specified columns\n",
    "    grouped_df = df.groupby(attribute_columns)\n",
    "\n",
    "    # Initialize a variable to store the result\n",
    "    result = 0\n",
    "\n",
    "    # Loop over groups\n",
    "    for group1, data1 in grouped_df:\n",
    "        for group2, data2 in grouped_df:\n",
    "            group_1_final_res = 0\n",
    "            group_2_final_res = 0\n",
    "            # Calculate the precision@K sum for group 1\n",
    "            count_users_group_1 = len(data1[\"user_id\"].unique())\n",
    "            prec_sum_group_1 = data1[\"PREC@{}\".format(k_value)].sum()\n",
    "\n",
    "            # Calculate the precision@K sum for group 2\n",
    "            count_users_group_2 = len(data2[\"user_id\"].unique())\n",
    "            prec_sum_group_2 = data2[\"PREC@{}\".format(k_value)].sum()\n",
    "\n",
    "            # Calculate the result for the group and update the overall result\n",
    "            if count_users_group_1 > 0:\n",
    "                group_1_final_res = prec_sum_group_1 / count_users_group_1\n",
    "\n",
    "            if count_users_group_2 > 0:\n",
    "                group_2_final_res = prec_sum_group_2 / count_users_group_2\n",
    "\n",
    "            result = result + abs(group_1_final_res - group_2_final_res)\n",
    "\n",
    "    total_groups = len(grouped_df)\n",
    "    return result / total_groups**2\n",
    "\n",
    "\n",
    "# Apply the function to create new columns\n",
    "vae_classifier_results[\"PREC@1\"] = vae_classifier_results.apply(\n",
    "    lambda row: precision_at_k(row[\"recommended_terms\"], row[\"missing_terms\"], 1),\n",
    "    axis=1,\n",
    ")\n",
    "vae_classifier_results[\"PREC@10\"] = vae_classifier_results.apply(\n",
    "    lambda row: precision_at_k(row[\"recommended_terms\"], row[\"missing_terms\"], 10),\n",
    "    axis=1,\n",
    ")\n",
    "vae_classifier_results[\"PREC@20\"] = vae_classifier_results.apply(\n",
    "    lambda row: precision_at_k(row[\"recommended_terms\"], row[\"missing_terms\"], 20),\n",
    "    axis=1,\n",
    ")"
   ]
  },
  {
   "cell_type": "code",
   "execution_count": null,
   "metadata": {},
   "outputs": [],
   "source": [
    "calculate_UFAIR_(vae_classifier_results,[\"country\"],k_value=10)"
   ]
  },
  {
   "cell_type": "code",
   "execution_count": null,
   "metadata": {},
   "outputs": [],
   "source": [
    "# Group by 'country' and calculate the mean for each group\n",
    "grouped_df = vae_classifier_results.groupby('country')[['PREC@1', 'PREC@10', 'PREC@20']].mean().reset_index()"
   ]
  },
  {
   "cell_type": "code",
   "execution_count": null,
   "metadata": {},
   "outputs": [],
   "source": [
    "# Plotting\n",
    "fig, ax = plt.subplots(figsize=(10, 6))\n",
    "\n",
    "bar_width = 0.25\n",
    "bar_positions_1 = range(len(grouped_df['country']))\n",
    "bar_positions_2 = [pos + bar_width for pos in bar_positions_1]\n",
    "bar_positions_3 = [pos + bar_width for pos in bar_positions_2]\n",
    "\n",
    "# Plotting the bars\n",
    "ax.bar(bar_positions_1, grouped_df['PREC@1'], width=bar_width, label='PREC@1')\n",
    "ax.bar(bar_positions_2, grouped_df['PREC@10'], width=bar_width, label='PREC@10')\n",
    "ax.bar(bar_positions_3, grouped_df['PREC@20'], width=bar_width, label='PREC@20')\n",
    "\n",
    "# Adding labels and title\n",
    "ax.set_xlabel('Country')\n",
    "ax.set_ylabel('Precision')\n",
    "ax.set_xticks([pos + bar_width for pos in bar_positions_1])\n",
    "ax.set_xticklabels(grouped_df['country'])\n",
    "ax.legend()\n",
    "ax.set_title('Multi-label classifier for sensitive attributes (country)')\n",
    "\n",
    "# Show the plot\n",
    "plt.show()"
   ]
  },
  {
   "cell_type": "code",
   "execution_count": null,
   "metadata": {},
   "outputs": [],
   "source": [
    "mean_precision_scores = grouped_df[['PREC@1', 'PREC@10', 'PREC@20']].mean()"
   ]
  },
  {
   "cell_type": "code",
   "execution_count": null,
   "metadata": {},
   "outputs": [],
   "source": [
    "mean_precision_scores"
   ]
  },
  {
   "cell_type": "code",
   "execution_count": null,
   "metadata": {},
   "outputs": [],
   "source": [
    "mean_precision_scores"
   ]
  }
 ],
 "metadata": {
  "kernelspec": {
   "display_name": "thesis",
   "language": "python",
   "name": "python3"
  },
  "language_info": {
   "codemirror_mode": {
    "name": "ipython",
    "version": 3
   },
   "file_extension": ".py",
   "mimetype": "text/x-python",
   "name": "python",
   "nbconvert_exporter": "python",
   "pygments_lexer": "ipython3",
   "version": "3.11.5"
  }
 },
 "nbformat": 4,
 "nbformat_minor": 2
}
